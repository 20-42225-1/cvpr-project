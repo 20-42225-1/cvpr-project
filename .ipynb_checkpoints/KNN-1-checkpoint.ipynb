{
 "cells": [
  {
   "cell_type": "code",
   "execution_count": 1,
   "id": "8c7bcadc",
   "metadata": {},
   "outputs": [
    {
     "ename": "ModuleNotFoundError",
     "evalue": "No module named 'cv2'",
     "output_type": "error",
     "traceback": [
      "\u001b[1;31m---------------------------------------------------------------------------\u001b[0m",
      "\u001b[1;31mModuleNotFoundError\u001b[0m                       Traceback (most recent call last)",
      "Cell \u001b[1;32mIn[1], line 3\u001b[0m\n\u001b[0;32m      1\u001b[0m \u001b[38;5;28;01mimport\u001b[39;00m \u001b[38;5;21;01mos\u001b[39;00m\n\u001b[0;32m      2\u001b[0m \u001b[38;5;28;01mimport\u001b[39;00m \u001b[38;5;21;01mrandom\u001b[39;00m\n\u001b[1;32m----> 3\u001b[0m \u001b[38;5;28;01mimport\u001b[39;00m \u001b[38;5;21;01mcv2\u001b[39;00m\n\u001b[0;32m      4\u001b[0m \u001b[38;5;28;01mfrom\u001b[39;00m \u001b[38;5;21;01mtqdm\u001b[39;00m \u001b[38;5;28;01mimport\u001b[39;00m tqdm\n\u001b[0;32m      5\u001b[0m \u001b[38;5;28;01mimport\u001b[39;00m \u001b[38;5;21;01mnumpy\u001b[39;00m \u001b[38;5;28;01mas\u001b[39;00m \u001b[38;5;21;01mnp\u001b[39;00m\n",
      "\u001b[1;31mModuleNotFoundError\u001b[0m: No module named 'cv2'"
     ]
    }
   ],
   "source": [
    "import os\n",
    "import random\n",
    "import cv2\n",
    "from tqdm import tqdm\n",
    "import numpy as np\n",
    "import matplotlib.pyplot as plt"
   ]
  },
  {
   "cell_type": "code",
   "execution_count": null,
   "id": "2e78e523",
   "metadata": {},
   "outputs": [],
   "source": [
    "TRAIN_DIR = './Dataset/train'\n",
    "CATEGORIES = []\n",
    "for c in os.listdir(TRAIN_DIR):\n",
    "    CATEGORIES.append(c)\n",
    "print(CATEGORIES)"
   ]
  },
  {
   "cell_type": "code",
   "execution_count": null,
   "id": "dab37e24",
   "metadata": {},
   "outputs": [],
   "source": [
    "TRAIN_DATA = []\n",
    "for c in CATEGORIES:\n",
    "    path = os.path.join(TRAIN_DIR,c)\n",
    "    class_num = CATEGORIES.index(c)\n",
    "    for img in tqdm(os.listdir(path)):\n",
    "        img_arr = cv2.imread(os.path.join(path,img))\n",
    "        TRAIN_DATA.append([img_arr, class_num])\n",
    "print(len(TRAIN_DATA))"
   ]
  },
  {
   "cell_type": "code",
   "execution_count": null,
   "id": "716a70f9",
   "metadata": {},
   "outputs": [],
   "source": [
    "random.shuffle(TRAIN_DATA)\n",
    "plt.figure(figsize=(20,10))\n",
    "\n",
    "for i in range(50):\n",
    "    plt.subplot(5,10,i+1)\n",
    "    plt.imshow(TRAIN_DATA[i][0])\n",
    "    plt.xlabel(CATEGORIES[TRAIN_DATA[i][1]])\n",
    "    plt.xticks([])\n",
    "    plt.yticks([])\n",
    "    if i==50:\n",
    "        break\n",
    "plt.show()"
   ]
  },
  {
   "cell_type": "code",
   "execution_count": null,
   "id": "cda8b1f0",
   "metadata": {},
   "outputs": [],
   "source": [
    "f0 = TRAIN_DATA[0:1000]\n",
    "f1 = TRAIN_DATA[1000:2000]\n",
    "f2 = TRAIN_DATA[2000:3000]\n",
    "f3 = TRAIN_DATA[3000:4000]\n",
    "f4 = TRAIN_DATA[4000:5000]"
   ]
  },
  {
   "cell_type": "code",
   "execution_count": null,
   "id": "4602046d",
   "metadata": {},
   "outputs": [],
   "source": [
    "def by_l1_dist(list):\n",
    "    return list[2][\"l1\"]\n",
    "\n",
    "def by_l2_dist(list):\n",
    "    return list[2][\"l2\"]"
   ]
  },
  {
   "cell_type": "code",
   "execution_count": null,
   "id": "c0059174",
   "metadata": {},
   "outputs": [],
   "source": [
    "top_filter = 20\n",
    "def distance_calc(train_fold, valid_fold):\n",
    "    l1_result = []\n",
    "    l2_result = []\n",
    "    for valid in tqdm(valid_fold): \n",
    "        temp_dist_list = []\n",
    "        for train in train_fold: \n",
    "            l1_dist = np.sum(np.abs(valid[0]-train[0]))\n",
    "            l2_dist = np.sqrt(np.sum(valid[0]-train[0]**2))\n",
    "            temp_dist_list.append([valid[1],  train[1], {\"l1\": l1_dist, \"l2\": l2_dist}])\n",
    "        temp_dist_list.sort(key=by_l1_dist)\n",
    "        l1_result.append(temp_dist_list[:top_filter])\n",
    "        temp_dist_list.sort(key=by_l2_dist)\n",
    "        l2_result.append(temp_dist_list[:top_filter])\n",
    "    return [l1_result, l2_result]"
   ]
  },
  {
   "cell_type": "code",
   "execution_count": null,
   "id": "55a30fcf",
   "metadata": {},
   "outputs": [],
   "source": [
    "k_range = 20\n",
    "def cal_accuracy(dist_result, dist_term):\n",
    "    k_accuracies = []  \n",
    "    for k in range(1, k_range+1):\n",
    "        img_accuracy = 0\n",
    "        for valid_img in dist_result:\n",
    "            nn = valid_img[:k]\n",
    "            same_class = [n for n in nn if n[0] == n[1]]\n",
    "            same_class_len = len(same_class)\n",
    "            if k % 2 != 0:                      \n",
    "                if ((k-1) / 2) < same_class_len:  \n",
    "                    img_accuracy += 1\n",
    "            else:                                  \n",
    "                diff_class = [n for n in nn if n[0] != n[1]]\n",
    "                if same_class_len > len(diff_class):    \n",
    "                    img_accuracy += 1\n",
    "                elif same_class_len == len(diff_class): # tie\n",
    "                    same_class_dist = sum([n[2][dist_term] for n in same_class])\n",
    "                    diff_class_dist = sum([n[2][dist_term] for n in diff_class])\n",
    "                    if same_class_dist > diff_class_dist:   \n",
    "                        img_accuracy += 1\n",
    "        k_accuracies.append(img_accuracy/len(dist_result))\n",
    "    return k_accuracies"
   ]
  },
  {
   "cell_type": "code",
   "execution_count": null,
   "id": "3a269398",
   "metadata": {},
   "outputs": [],
   "source": [
    "dist_by_fold = []\n",
    "import math \n",
    "for i in range(5):\n",
    "    if i==0:\n",
    "        train = f1+f2+f3+f4\n",
    "        validation = f0    \n",
    "    elif i==1:\n",
    "        train = f0+f2+f3+f4\n",
    "        validation = f1\n",
    "    elif i==2:\n",
    "        train = f1+f0+f3+f4\n",
    "        validation = f2\n",
    "    elif i==3:\n",
    "        train = f1+f2+f0+f4\n",
    "        validation = f3\n",
    "    elif i==4:\n",
    "        train = f1+f2+f3+f0\n",
    "        validation = f4\n",
    "    \n",
    "    dist_by_fold.append(distance_calc(train, validation))  "
   ]
  },
  {
   "cell_type": "code",
   "execution_count": null,
   "id": "64a1211d",
   "metadata": {},
   "outputs": [],
   "source": [
    "accuracies = []\n",
    "\n",
    "for result in dist_by_fold:\n",
    "    l1_accuracy = cal_accuracy(result[0], \"l1\")\n",
    "    l2_accuracy = cal_accuracy(result[1], \"l2\")\n",
    "    accuracies.append([l1_accuracy, l2_accuracy])"
   ]
  },
  {
   "cell_type": "code",
   "execution_count": null,
   "id": "d576302c",
   "metadata": {},
   "outputs": [],
   "source": [
    "x_list = list(range(1, k_range+1))\n",
    "plt.figure(figsize=(14, 6))\n",
    "\n",
    "for fold in accuracies:\n",
    "  y_list = fold[0]\n",
    "  plt.scatter(x_list, y_list)\n",
    "arr = []\n",
    "for i in range(k_range):\n",
    "  arr.append([fold[0][i] for fold in accuracies])\n",
    "trend = [np.mean(a) for a in arr]\n",
    "plt.errorbar(x_list, trend,fmt='-o')\n",
    "plt.title('L1 Distance')\n",
    "plt.xticks(x_list)\n",
    "plt.grid(True)\n",
    "plt.xlabel('K')\n",
    "plt.ylabel('Accuracy')\n",
    "plt.show()\n",
    "\n",
    "x_list = list(range(1, k_range+1))\n",
    "plt.figure(figsize=(14, 6))\n",
    "\n",
    "for fold in accuracies:\n",
    "  y_list = fold[1]\n",
    "  plt.scatter(x_list, y_list)\n",
    "arr = []\n",
    "for i in range(k_range):\n",
    "  arr.append([fold[1][i] for fold in accuracies])\n",
    "trend = [np.mean(a) for a in arr]\n",
    "plt.errorbar(x_list, trend,fmt='-o')\n",
    "plt.title('L2 Distance')\n",
    "plt.xticks(x_list)\n",
    "plt.grid(True)\n",
    "plt.xlabel('K')\n",
    "plt.ylabel('Accuracy')\n",
    "plt.show()"
   ]
  },
  {
   "cell_type": "code",
   "execution_count": null,
   "id": "6270106c",
   "metadata": {},
   "outputs": [],
   "source": []
  }
 ],
 "metadata": {
  "kernelspec": {
   "display_name": "Python 3 (ipykernel)",
   "language": "python",
   "name": "python3"
  },
  "language_info": {
   "codemirror_mode": {
    "name": "ipython",
    "version": 3
   },
   "file_extension": ".py",
   "mimetype": "text/x-python",
   "name": "python",
   "nbconvert_exporter": "python",
   "pygments_lexer": "ipython3",
   "version": "3.8.17"
  }
 },
 "nbformat": 4,
 "nbformat_minor": 5
}
