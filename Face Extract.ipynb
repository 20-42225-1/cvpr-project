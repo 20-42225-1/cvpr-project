{
 "cells": [
  {
   "cell_type": "code",
   "execution_count": 8,
   "id": "a312d769",
   "metadata": {},
   "outputs": [],
   "source": [
    "import os\n",
    "import cv2\n",
    "\n",
    "def extract_faces(input_path, output_path):\n",
    "    face_cascade = cv2.CascadeClassifier(cv2.data.haarcascades + 'haarcascade_frontalface_default.xml')\n",
    "\n",
    "    for folder_name in os.listdir(input_path):\n",
    "        if os.path.isdir(os.path.join(input_path, folder_name)):\n",
    "            input_folder = os.path.join(input_path, folder_name)\n",
    "            output_folder = os.path.join(output_path, folder_name)\n",
    "\n",
    "            if not os.path.exists(output_folder):\n",
    "                os.makedirs(output_folder)\n",
    "\n",
    "            for file_name in os.listdir(input_folder):\n",
    "                if file_name.lower().endswith(('.png', '.jpg', '.jpeg')):\n",
    "                    image_path = os.path.join(input_folder, file_name)\n",
    "                    output_image_path = os.path.join(output_folder, file_name)\n",
    "\n",
    "                    image = cv2.imread(image_path)\n",
    "                    gray = cv2.cvtColor(image, cv2.COLOR_BGR2GRAY)\n",
    "\n",
    "                    faces = face_cascade.detectMultiScale(gray, scaleFactor=1.1, minNeighbors=5, minSize=(30, 30))\n",
    "\n",
    "                    for i, (x, y, w, h) in enumerate(faces):\n",
    "                        face = image[y:y+h, x:x+w]\n",
    "                        output_face_path = os.path.join(output_folder, f\"face_{i+1}_{file_name}\")\n",
    "                        cv2.imwrite(output_face_path, face)\n",
    "\n",
    "if __name__ == \"__main__\":\n",
    "    input_folder_path = \"dataset/train\"\n",
    "    output_folder_path = \"dataset/trainoutput\"\n",
    "\n",
    "    extract_faces(input_folder_path, output_folder_path)\n"
   ]
  },
  {
   "cell_type": "code",
   "execution_count": null,
   "id": "c29a5b67",
   "metadata": {},
   "outputs": [],
   "source": []
  },
  {
   "cell_type": "code",
   "execution_count": null,
   "id": "1d5b1d72",
   "metadata": {},
   "outputs": [],
   "source": []
  },
  {
   "cell_type": "code",
   "execution_count": null,
   "id": "a970349b",
   "metadata": {},
   "outputs": [],
   "source": []
  }
 ],
 "metadata": {
  "kernelspec": {
   "display_name": "Python [conda env:cvpr] *",
   "language": "python",
   "name": "conda-env-cvpr-py"
  },
  "language_info": {
   "codemirror_mode": {
    "name": "ipython",
    "version": 3
   },
   "file_extension": ".py",
   "mimetype": "text/x-python",
   "name": "python",
   "nbconvert_exporter": "python",
   "pygments_lexer": "ipython3",
   "version": "3.8.17"
  }
 },
 "nbformat": 4,
 "nbformat_minor": 5
}
